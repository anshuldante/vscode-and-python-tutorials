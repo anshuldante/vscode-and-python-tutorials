{
 "cells": [
  {
   "cell_type": "markdown",
   "metadata": {},
   "source": [
    "# Calendar"
   ]
  },
  {
   "cell_type": "code",
   "execution_count": 1,
   "metadata": {},
   "outputs": [],
   "source": [
    "import calendar"
   ]
  },
  {
   "cell_type": "code",
   "execution_count": 2,
   "metadata": {},
   "outputs": [],
   "source": [
    "c = calendar.TextCalendar(calendar.SUNDAY)"
   ]
  },
  {
   "cell_type": "code",
   "execution_count": 3,
   "metadata": {},
   "outputs": [
    {
     "data": {
      "text/plain": [
       "[[[[0, 0, 0, 1, 2, 3, 4],\n",
       "   [5, 6, 7, 8, 9, 10, 11],\n",
       "   [12, 13, 14, 15, 16, 17, 18],\n",
       "   [19, 20, 21, 22, 23, 24, 25],\n",
       "   [26, 27, 28, 29, 30, 31, 0]],\n",
       "  [[0, 0, 0, 0, 0, 0, 1],\n",
       "   [2, 3, 4, 5, 6, 7, 8],\n",
       "   [9, 10, 11, 12, 13, 14, 15],\n",
       "   [16, 17, 18, 19, 20, 21, 22],\n",
       "   [23, 24, 25, 26, 27, 28, 29]],\n",
       "  [[1, 2, 3, 4, 5, 6, 7],\n",
       "   [8, 9, 10, 11, 12, 13, 14],\n",
       "   [15, 16, 17, 18, 19, 20, 21],\n",
       "   [22, 23, 24, 25, 26, 27, 28],\n",
       "   [29, 30, 31, 0, 0, 0, 0]]],\n",
       " [[[0, 0, 0, 1, 2, 3, 4],\n",
       "   [5, 6, 7, 8, 9, 10, 11],\n",
       "   [12, 13, 14, 15, 16, 17, 18],\n",
       "   [19, 20, 21, 22, 23, 24, 25],\n",
       "   [26, 27, 28, 29, 30, 0, 0]],\n",
       "  [[0, 0, 0, 0, 0, 1, 2],\n",
       "   [3, 4, 5, 6, 7, 8, 9],\n",
       "   [10, 11, 12, 13, 14, 15, 16],\n",
       "   [17, 18, 19, 20, 21, 22, 23],\n",
       "   [24, 25, 26, 27, 28, 29, 30],\n",
       "   [31, 0, 0, 0, 0, 0, 0]],\n",
       "  [[0, 1, 2, 3, 4, 5, 6],\n",
       "   [7, 8, 9, 10, 11, 12, 13],\n",
       "   [14, 15, 16, 17, 18, 19, 20],\n",
       "   [21, 22, 23, 24, 25, 26, 27],\n",
       "   [28, 29, 30, 0, 0, 0, 0]]],\n",
       " [[[0, 0, 0, 1, 2, 3, 4],\n",
       "   [5, 6, 7, 8, 9, 10, 11],\n",
       "   [12, 13, 14, 15, 16, 17, 18],\n",
       "   [19, 20, 21, 22, 23, 24, 25],\n",
       "   [26, 27, 28, 29, 30, 31, 0]],\n",
       "  [[0, 0, 0, 0, 0, 0, 1],\n",
       "   [2, 3, 4, 5, 6, 7, 8],\n",
       "   [9, 10, 11, 12, 13, 14, 15],\n",
       "   [16, 17, 18, 19, 20, 21, 22],\n",
       "   [23, 24, 25, 26, 27, 28, 29],\n",
       "   [30, 31, 0, 0, 0, 0, 0]],\n",
       "  [[0, 0, 1, 2, 3, 4, 5],\n",
       "   [6, 7, 8, 9, 10, 11, 12],\n",
       "   [13, 14, 15, 16, 17, 18, 19],\n",
       "   [20, 21, 22, 23, 24, 25, 26],\n",
       "   [27, 28, 29, 30, 0, 0, 0]]],\n",
       " [[[0, 0, 0, 0, 1, 2, 3],\n",
       "   [4, 5, 6, 7, 8, 9, 10],\n",
       "   [11, 12, 13, 14, 15, 16, 17],\n",
       "   [18, 19, 20, 21, 22, 23, 24],\n",
       "   [25, 26, 27, 28, 29, 30, 31]],\n",
       "  [[1, 2, 3, 4, 5, 6, 7],\n",
       "   [8, 9, 10, 11, 12, 13, 14],\n",
       "   [15, 16, 17, 18, 19, 20, 21],\n",
       "   [22, 23, 24, 25, 26, 27, 28],\n",
       "   [29, 30, 0, 0, 0, 0, 0]],\n",
       "  [[0, 0, 1, 2, 3, 4, 5],\n",
       "   [6, 7, 8, 9, 10, 11, 12],\n",
       "   [13, 14, 15, 16, 17, 18, 19],\n",
       "   [20, 21, 22, 23, 24, 25, 26],\n",
       "   [27, 28, 29, 30, 31, 0, 0]]]]"
      ]
     },
     "execution_count": 3,
     "metadata": {},
     "output_type": "execute_result"
    }
   ],
   "source": [
    "c.yeardayscalendar(2020)"
   ]
  },
  {
   "cell_type": "code",
   "execution_count": 4,
   "metadata": {},
   "outputs": [
    {
     "data": {
      "text/plain": [
       "[[datetime.date(2020, 6, 28),\n",
       "  datetime.date(2020, 6, 29),\n",
       "  datetime.date(2020, 6, 30),\n",
       "  datetime.date(2020, 7, 1),\n",
       "  datetime.date(2020, 7, 2),\n",
       "  datetime.date(2020, 7, 3),\n",
       "  datetime.date(2020, 7, 4)],\n",
       " [datetime.date(2020, 7, 5),\n",
       "  datetime.date(2020, 7, 6),\n",
       "  datetime.date(2020, 7, 7),\n",
       "  datetime.date(2020, 7, 8),\n",
       "  datetime.date(2020, 7, 9),\n",
       "  datetime.date(2020, 7, 10),\n",
       "  datetime.date(2020, 7, 11)],\n",
       " [datetime.date(2020, 7, 12),\n",
       "  datetime.date(2020, 7, 13),\n",
       "  datetime.date(2020, 7, 14),\n",
       "  datetime.date(2020, 7, 15),\n",
       "  datetime.date(2020, 7, 16),\n",
       "  datetime.date(2020, 7, 17),\n",
       "  datetime.date(2020, 7, 18)],\n",
       " [datetime.date(2020, 7, 19),\n",
       "  datetime.date(2020, 7, 20),\n",
       "  datetime.date(2020, 7, 21),\n",
       "  datetime.date(2020, 7, 22),\n",
       "  datetime.date(2020, 7, 23),\n",
       "  datetime.date(2020, 7, 24),\n",
       "  datetime.date(2020, 7, 25)],\n",
       " [datetime.date(2020, 7, 26),\n",
       "  datetime.date(2020, 7, 27),\n",
       "  datetime.date(2020, 7, 28),\n",
       "  datetime.date(2020, 7, 29),\n",
       "  datetime.date(2020, 7, 30),\n",
       "  datetime.date(2020, 7, 31),\n",
       "  datetime.date(2020, 8, 1)]]"
      ]
     },
     "execution_count": 4,
     "metadata": {},
     "output_type": "execute_result"
    }
   ],
   "source": [
    "c.monthdatescalendar(2020,7)"
   ]
  },
  {
   "cell_type": "code",
   "execution_count": 5,
   "metadata": {},
   "outputs": [
    {
     "name": "stdout",
     "output_type": "stream",
     "text": [
      "    January 2017\n",
      "Su Mo Tu We Th Fr Sa\n",
      " 1  2  3  4  5  6  7\n",
      " 8  9 10 11 12 13 14\n",
      "15 16 17 18 19 20 21\n",
      "22 23 24 25 26 27 28\n",
      "29 30 31\n",
      "\n"
     ]
    }
   ],
   "source": [
    "# create a plain text calendar\n",
    "c = calendar.TextCalendar(calendar.SUNDAY)\n",
    "month = c.formatmonth(2017, 1)\n",
    "print (month)"
   ]
  },
  {
   "cell_type": "code",
   "execution_count": 6,
   "metadata": {},
   "outputs": [
    {
     "name": "stdout",
     "output_type": "stream",
     "text": [
      "<table border=\"0\" cellpadding=\"0\" cellspacing=\"0\" class=\"month\">\n",
      "<tr><th colspan=\"7\" class=\"month\">January 2017</th></tr>\n",
      "<tr><th class=\"sun\">Sun</th><th class=\"mon\">Mon</th><th class=\"tue\">Tue</th><th class=\"wed\">Wed</th><th class=\"thu\">Thu</th><th class=\"fri\">Fri</th><th class=\"sat\">Sat</th></tr>\n",
      "<tr><td class=\"sun\">1</td><td class=\"mon\">2</td><td class=\"tue\">3</td><td class=\"wed\">4</td><td class=\"thu\">5</td><td class=\"fri\">6</td><td class=\"sat\">7</td></tr>\n",
      "<tr><td class=\"sun\">8</td><td class=\"mon\">9</td><td class=\"tue\">10</td><td class=\"wed\">11</td><td class=\"thu\">12</td><td class=\"fri\">13</td><td class=\"sat\">14</td></tr>\n",
      "<tr><td class=\"sun\">15</td><td class=\"mon\">16</td><td class=\"tue\">17</td><td class=\"wed\">18</td><td class=\"thu\">19</td><td class=\"fri\">20</td><td class=\"sat\">21</td></tr>\n",
      "<tr><td class=\"sun\">22</td><td class=\"mon\">23</td><td class=\"tue\">24</td><td class=\"wed\">25</td><td class=\"thu\">26</td><td class=\"fri\">27</td><td class=\"sat\">28</td></tr>\n",
      "<tr><td class=\"sun\">29</td><td class=\"mon\">30</td><td class=\"tue\">31</td><td class=\"noday\">&nbsp;</td><td class=\"noday\">&nbsp;</td><td class=\"noday\">&nbsp;</td><td class=\"noday\">&nbsp;</td></tr>\n",
      "</table>\n",
      "\n"
     ]
    }
   ],
   "source": [
    "# create an HTML formatted calendar\n",
    "hc = calendar.HTMLCalendar(calendar.SUNDAY)\n",
    "month = hc.formatmonth(2017, 1)\n",
    "print (month)"
   ]
  },
  {
   "cell_type": "code",
   "execution_count": 7,
   "metadata": {},
   "outputs": [
    {
     "data": {
      "text/plain": [
       "['__class__',\n",
       " '__delattr__',\n",
       " '__dict__',\n",
       " '__dir__',\n",
       " '__doc__',\n",
       " '__eq__',\n",
       " '__format__',\n",
       " '__ge__',\n",
       " '__getattribute__',\n",
       " '__gt__',\n",
       " '__hash__',\n",
       " '__init__',\n",
       " '__init_subclass__',\n",
       " '__le__',\n",
       " '__lt__',\n",
       " '__module__',\n",
       " '__ne__',\n",
       " '__new__',\n",
       " '__reduce__',\n",
       " '__reduce_ex__',\n",
       " '__repr__',\n",
       " '__setattr__',\n",
       " '__sizeof__',\n",
       " '__str__',\n",
       " '__subclasshook__',\n",
       " '__weakref__',\n",
       " '_firstweekday',\n",
       " 'firstweekday',\n",
       " 'formatday',\n",
       " 'formatmonth',\n",
       " 'formatmonthname',\n",
       " 'formatweek',\n",
       " 'formatweekday',\n",
       " 'formatweekheader',\n",
       " 'formatyear',\n",
       " 'getfirstweekday',\n",
       " 'itermonthdates',\n",
       " 'itermonthdays',\n",
       " 'itermonthdays2',\n",
       " 'itermonthdays3',\n",
       " 'itermonthdays4',\n",
       " 'iterweekdays',\n",
       " 'monthdatescalendar',\n",
       " 'monthdays2calendar',\n",
       " 'monthdayscalendar',\n",
       " 'prmonth',\n",
       " 'prweek',\n",
       " 'pryear',\n",
       " 'setfirstweekday',\n",
       " 'yeardatescalendar',\n",
       " 'yeardays2calendar',\n",
       " 'yeardayscalendar']"
      ]
     },
     "execution_count": 7,
     "metadata": {},
     "output_type": "execute_result"
    }
   ],
   "source": [
    "dir(c)"
   ]
  },
  {
   "cell_type": "code",
   "execution_count": 8,
   "metadata": {},
   "outputs": [
    {
     "name": "stdout",
     "output_type": "stream",
     "text": [
      "Help on method formatmonth in module calendar:\n",
      "\n",
      "formatmonth(theyear, themonth, w=0, l=0) method of calendar.TextCalendar instance\n",
      "    Return a month's calendar string (multi-line).\n",
      "\n"
     ]
    }
   ],
   "source": [
    "help(c.formatmonth)"
   ]
  },
  {
   "cell_type": "code",
   "execution_count": 9,
   "metadata": {},
   "outputs": [
    {
     "name": "stdout",
     "output_type": "stream",
     "text": [
      "0\n",
      "0\n",
      "1\n",
      "2\n",
      "3\n",
      "4\n",
      "5\n",
      "6\n",
      "7\n",
      "8\n",
      "9\n",
      "10\n",
      "11\n",
      "12\n",
      "13\n",
      "14\n",
      "15\n",
      "16\n",
      "17\n",
      "18\n",
      "19\n",
      "20\n",
      "21\n",
      "22\n",
      "23\n",
      "24\n",
      "25\n",
      "26\n",
      "27\n",
      "28\n",
      "29\n",
      "30\n",
      "31\n",
      "0\n",
      "0\n"
     ]
    }
   ],
   "source": [
    "# loop over the days of a month\n",
    "# zeroes mean that the day of the week is in an overlapping month\n",
    "for i in c.itermonthdays(2017, 8):\n",
    "  print (i)"
   ]
  },
  {
   "cell_type": "code",
   "execution_count": 10,
   "metadata": {},
   "outputs": [
    {
     "name": "stdout",
     "output_type": "stream",
     "text": [
      "\n",
      "January\n",
      "February\n",
      "March\n",
      "April\n",
      "May\n",
      "June\n",
      "July\n",
      "August\n",
      "September\n",
      "October\n",
      "November\n",
      "December\n"
     ]
    }
   ],
   "source": [
    "# The Calendar module provides useful utilities for the given locale,\n",
    "# such as the names of days and months in both full and abbreviated forms\n",
    "for name in calendar.month_name:\n",
    "  print (name)"
   ]
  },
  {
   "cell_type": "code",
   "execution_count": 11,
   "metadata": {},
   "outputs": [
    {
     "name": "stdout",
     "output_type": "stream",
     "text": [
      "Monday\n",
      "Tuesday\n",
      "Wednesday\n",
      "Thursday\n",
      "Friday\n",
      "Saturday\n",
      "Sunday\n"
     ]
    }
   ],
   "source": [
    "\n",
    "for day in calendar.day_name:\n",
    "  print (day)"
   ]
  },
  {
   "cell_type": "code",
   "execution_count": 12,
   "metadata": {},
   "outputs": [
    {
     "name": "stdout",
     "output_type": "stream",
     "text": [
      "Team meetings will be on:\n",
      "   January  6\n",
      "  February  3\n",
      "     March  3\n",
      "     April  7\n",
      "       May  5\n",
      "      June  2\n",
      "      July  7\n",
      "    August  4\n",
      " September  1\n",
      "   October  6\n",
      "  November  3\n",
      "  December  1\n"
     ]
    }
   ],
   "source": [
    "# Calculate days based on a rule: For example, consider\n",
    "# a team meeting on the first Friday of every month.\n",
    "# To figure out what days that would be for each month,\n",
    "# we can use this script:\n",
    "print (\"Team meetings will be on:\")\n",
    "for m in range(1,13):\n",
    "  # returns an array of weeks that represent the month\n",
    "  cal = calendar.monthcalendar(2017, m)\n",
    "  # The first Friday has to be within the first two weeks\n",
    "  weekone = cal[0]\n",
    "  weektwo = cal[1]\n",
    "   \n",
    "  if weekone[calendar.FRIDAY] != 0:\n",
    "    meetday = weekone[calendar.FRIDAY]\n",
    "  else:\n",
    "    # if the first friday isn't in the first week, it must be in the second\n",
    "    meetday = weektwo[calendar.FRIDAY]\n",
    "      \n",
    "  print (\"%10s %2d\" % (calendar.month_name[m], meetday))\n"
   ]
  },
  {
   "cell_type": "markdown",
   "metadata": {},
   "source": [
    "# Dates"
   ]
  },
  {
   "cell_type": "code",
   "execution_count": 13,
   "metadata": {},
   "outputs": [],
   "source": [
    "from datetime import date\n",
    "from datetime import time\n",
    "from datetime import datetime"
   ]
  },
  {
   "cell_type": "code",
   "execution_count": 14,
   "metadata": {},
   "outputs": [
    {
     "name": "stdout",
     "output_type": "stream",
     "text": [
      "Today's date is  2020-07-09\n",
      "Date Components:  9 7 2020\n",
      "Today's Weekday #:  3\n",
      "Which is a thursday\n",
      "The current date and time is  2020-07-09 08:51:02.716922\n",
      "The current time is  08:51:02.717023\n"
     ]
    }
   ],
   "source": [
    "## DATE OBJECTS\n",
    "# Get today's date from the simple today() method from the date class\n",
    "today = date.today()\n",
    "print (\"Today's date is \", today)\n",
    "\n",
    "# print out the date's individual components\n",
    "print (\"Date Components: \", today.day, today.month, today.year)\n",
    "\n",
    "# retrieve today's weekday (0=Monday, 6=Sunday)\n",
    "print (\"Today's Weekday #: \", today.weekday())\n",
    "days = [\"monday\",\"tuesday\",\"wednesday\",\"thursday\",\"friday\",\"saturday\",\"sunday\"]\n",
    "print (\"Which is a \" + days[today.weekday()])\n",
    "\n",
    "## DATETIME OBJECTS\n",
    "# Get today's date from the datetime class\n",
    "today = datetime.now()\n",
    "print  (\"The current date and time is \", today)\n",
    "\n",
    "# Get the current time\n",
    "t = datetime.time(datetime.now())\n",
    "print (\"The current time is \", t)"
   ]
  },
  {
   "cell_type": "markdown",
   "metadata": {},
   "source": [
    "# Timedeltas"
   ]
  },
  {
   "cell_type": "code",
   "execution_count": 15,
   "metadata": {},
   "outputs": [],
   "source": [
    "\n",
    "from datetime import date\n",
    "from datetime import time\n",
    "from datetime import datetime\n",
    "from datetime import timedelta"
   ]
  },
  {
   "cell_type": "code",
   "execution_count": 18,
   "metadata": {},
   "outputs": [
    {
     "name": "stdout",
     "output_type": "stream",
     "text": [
      "365 days, 5:01:00\n",
      "today is: 2020-07-09 08:51:37.698163\n",
      "one year from now it will be: 2021-07-09 08:51:37.698163\n",
      "in two weeks and 3 days it will be: 2020-07-26 08:51:37.698163\n",
      "one week ago it was Thursday July 02, 2020\n",
      "April Fool's day already went by 99 days ago\n",
      "It's just 266 days until next April Fools' Day!\n"
     ]
    }
   ],
   "source": [
    "# construct a basic timedelta and print it\n",
    "print (timedelta(days=365, hours=5, minutes=1))\n",
    "\n",
    "# print today's date\n",
    "now = datetime.now()\n",
    "print (\"today is: \" + str(now))\n",
    "\n",
    "# print today's date one year from now\n",
    "print (\"one year from now it will be: \" + str(now + timedelta(days=365)))\n",
    "\n",
    "# create a timedelta that uses more than one argument\n",
    "print (\"in two weeks and 3 days it will be: \" + str(now + timedelta(weeks=2, days=3)))\n",
    "\n",
    "# calculate the date 1 week ago, formatted as a string\n",
    "t = datetime.now() - timedelta(weeks=1)\n",
    "s = t.strftime(\"%A %B %d, %Y\")\n",
    "print (\"one week ago it was \" + s)\n",
    "\n",
    "### How many days until April Fools' Day?\n",
    "\n",
    "today = date.today()  # get today's date\n",
    "afd = date(today.year, 4, 1)  # get April Fool's for the same year\n",
    "# use date comparison to see if April Fool's has already gone for this year\n",
    "# if it has, use the replace() function to get the date for next year\n",
    "if afd < today:\n",
    "  print (\"April Fool's day already went by %d days ago\" % ((today-afd).days))\n",
    "  afd = afd.replace(year=today.year + 1)  # if so, get the date for next year\n",
    "\n",
    "# Now calculate the amount of time until April Fool's Day  \n",
    "time_to_afd = afd - today\n",
    "print (\"It's just\", time_to_afd.days, \"days until next April Fools' Day!\")\n",
    "\n"
   ]
  },
  {
   "cell_type": "markdown",
   "metadata": {},
   "source": [
    "# Formatting"
   ]
  },
  {
   "cell_type": "code",
   "execution_count": 19,
   "metadata": {},
   "outputs": [
    {
     "name": "stdout",
     "output_type": "stream",
     "text": [
      "The current year is: 2020\n",
      "Thu, 09 July, 20\n",
      "Locale date and time: Thu Jul  9 08:52:45 2020\n",
      "Locale date: 07/09/20\n",
      "Locale time: 08:52:45\n",
      "Current time: 08:52:45 AM\n",
      "24-hour time: 08:52\n"
     ]
    }
   ],
   "source": [
    "  # Times and dates can be formatted using a set of predefined string\n",
    "  # control codes \n",
    "  now = datetime.now() # get the current date and time\n",
    "  \n",
    "  #### Date Formatting ####\n",
    "  \n",
    "  # %y/%Y - Year, %a/%A - weekday, %b/%B - month, %d - day of month\n",
    "  print (now.strftime(\"The current year is: %Y\")) # full year with century\n",
    "  print (now.strftime(\"%a, %d %B, %y\")) # abbreviated day, num, full month, abbreviated year\n",
    "  \n",
    "  # %c - locale's date and time, %x - locale's date, %X - locale's time\n",
    "  print (now.strftime(\"Locale date and time: %c\"))\n",
    "  print (now.strftime(\"Locale date: %x\"))\n",
    "  print (now.strftime(\"Locale time: %X\"))\n",
    "  \n",
    "  #### Time Formatting ####\n",
    "  \n",
    "  # %I/%H - 12/24 Hour, %M - minute, %S - second, %p - locale's AM/PM\n",
    "  print (now.strftime(\"Current time: %I:%M:%S %p\")) # 12-Hour:Minute:Second:AM\n",
    "  print (now.strftime(\"24-hour time: %H:%M\")) # 24-Hour:Minute"
   ]
  },
  {
   "cell_type": "code",
   "execution_count": null,
   "metadata": {},
   "outputs": [],
   "source": []
  }
 ],
 "metadata": {
  "kernelspec": {
   "display_name": "Python 3.7.6 64-bit ('anaconda3': virtualenv)",
   "language": "python",
   "name": "python37664bitanaconda3virtualenv14f0be09cba74924b59e6e390c97b227"
  },
  "language_info": {
   "codemirror_mode": {
    "name": "ipython",
    "version": 3
   },
   "file_extension": ".py",
   "mimetype": "text/x-python",
   "name": "python",
   "nbconvert_exporter": "python",
   "pygments_lexer": "ipython3",
   "version": "3.7.6"
  }
 },
 "nbformat": 4,
 "nbformat_minor": 4
}
