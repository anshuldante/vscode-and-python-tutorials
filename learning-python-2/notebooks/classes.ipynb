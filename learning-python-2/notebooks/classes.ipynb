{
 "cells": [
  {
   "cell_type": "code",
   "execution_count": 8,
   "metadata": {},
   "outputs": [],
   "source": [
    "class class1():\n",
    "    def func1(self):\n",
    "        print('function 1')\n",
    "        \n",
    "    def func2(self, x):\n",
    "        print(f'Function 2:{x}')"
   ]
  },
  {
   "cell_type": "code",
   "execution_count": 9,
   "metadata": {},
   "outputs": [
    {
     "name": "stdout",
     "output_type": "stream",
     "text": [
      "function 1\n",
      "Function 2:123\n"
     ]
    }
   ],
   "source": [
    "c = class1()\n",
    "c.func1()\n",
    "c.func2(123)"
   ]
  },
  {
   "cell_type": "code",
   "execution_count": 19,
   "metadata": {},
   "outputs": [],
   "source": [
    "class class2(class1):\n",
    "    def func1(self):\n",
    "        class1.func1(self)\n",
    "        print('Class 2 function 1')\n",
    "    \n",
    "    def func2(self, x):\n",
    "        print(f'Class 2 function 2: {x}')"
   ]
  },
  {
   "cell_type": "code",
   "execution_count": 20,
   "metadata": {},
   "outputs": [
    {
     "name": "stdout",
     "output_type": "stream",
     "text": [
      "function 1\n",
      "Class 2 function 1\n",
      "Class 2 function 2: 123\n"
     ]
    }
   ],
   "source": [
    "c = class2()\n",
    "c.func1()\n",
    "c.func2(123)"
   ]
  },
  {
   "cell_type": "code",
   "execution_count": null,
   "metadata": {},
   "outputs": [],
   "source": []
  }
 ],
 "metadata": {
  "kernelspec": {
   "display_name": "Python 3.7.6 64-bit ('anaconda3': virtualenv)",
   "language": "python",
   "name": "python37664bitanaconda3virtualenv14f0be09cba74924b59e6e390c97b227"
  },
  "language_info": {
   "codemirror_mode": {
    "name": "ipython",
    "version": 3
   },
   "file_extension": ".py",
   "mimetype": "text/x-python",
   "name": "python",
   "nbconvert_exporter": "python",
   "pygments_lexer": "ipython3",
   "version": "3.7.6"
  }
 },
 "nbformat": 4,
 "nbformat_minor": 4
}
