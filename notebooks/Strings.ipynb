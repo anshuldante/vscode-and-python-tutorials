{
 "cells": [
  {
   "cell_type": "code",
   "execution_count": 1,
   "metadata": {},
   "outputs": [
    {
     "name": "stdout",
     "output_type": "stream",
     "text": [
      "Hello, World. 294\n"
     ]
    }
   ],
   "source": [
    "print('Hello, World. {}'.format(42*7))"
   ]
  },
  {
   "cell_type": "code",
   "execution_count": 4,
   "metadata": {},
   "outputs": [
    {
     "name": "stdout",
     "output_type": "stream",
     "text": [
      "['This', 'is', 'a', 'long', 'string', 'with', 'a', 'bunch', 'of', 'words', 'in', 'it.']\n",
      "This:is:a:long:string:with:a:bunch:of:words:in:it.\n",
      "This---is---a---long---string---with---a---bunch---of---words---in---it.\n"
     ]
    }
   ],
   "source": [
    "s = 'This is a long string with a bunch of words in it.'\n",
    "l=s.split()\n",
    "\n",
    "s2= ':'.join(l)\n",
    "s3= '---'.join(l)\n",
    "\n",
    "print(l)\n",
    "print(s2)\n",
    "print(s3)"
   ]
  },
  {
   "cell_type": "code",
   "execution_count": 3,
   "metadata": {},
   "outputs": [
    {
     "name": "stdout",
     "output_type": "stream",
     "text": [
      "HELLO, WORLD.\n",
      "hello, world.\n",
      "Hello, world.\n",
      "Hello, World.\n",
      "hello, world. ss\n",
      "hello, world. ß\n"
     ]
    }
   ],
   "source": [
    "print('Hello, World.'.upper())\n",
    "print('Hello, World.'.lower())\n",
    "print('Hello, World.'.capitalize())\n",
    "\n",
    "print('Hello, World.'.title())\n",
    "print('Hello, World. ß'.casefold())\n",
    "print('Hello, World. ß'.lower())"
   ]
  },
  {
   "cell_type": "code",
   "execution_count": null,
   "metadata": {},
   "outputs": [],
   "source": []
  }
 ],
 "metadata": {
  "kernelspec": {
   "display_name": "Python 3.7.6 64-bit ('anaconda3': virtualenv)",
   "language": "python",
   "name": "python37664bitanaconda3virtualenv14f0be09cba74924b59e6e390c97b227"
  },
  "language_info": {
   "codemirror_mode": {
    "name": "ipython",
    "version": 3
   },
   "file_extension": ".py",
   "mimetype": "text/x-python",
   "name": "python",
   "nbconvert_exporter": "python",
   "pygments_lexer": "ipython3",
   "version": "3.7.6"
  }
 },
 "nbformat": 4,
 "nbformat_minor": 4
}
