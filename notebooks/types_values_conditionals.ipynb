{
 "cells": [
  {
   "cell_type": "markdown",
   "metadata": {},
   "source": [
    "# Strings"
   ]
  },
  {
   "cell_type": "code",
   "execution_count": 8,
   "metadata": {},
   "outputs": [
    {
     "name": "stdout",
     "output_type": "stream",
     "text": [
      "y is seven 800000000 000000009 12\n",
      "x is seven 800000000 000000009 12\n",
      "<class 'str'>\n"
     ]
    }
   ],
   "source": [
    "y = f'seven \"{8:<09}\" \"{777:>09}\"'\n",
    "print('y is {}'.format(x))\n",
    "a=8\n",
    "b=9\n",
    "x = f'seven {a:<09} {b:>09} {12}'\n",
    "print('x is {}'.format(x))\n",
    "print(type(x))\n"
   ]
  },
  {
   "cell_type": "markdown",
   "metadata": {},
   "source": [
    "# Types and IDs"
   ]
  },
  {
   "cell_type": "code",
   "execution_count": 9,
   "metadata": {},
   "outputs": [
    {
     "name": "stdout",
     "output_type": "stream",
     "text": [
      "x is (1, 'two', 3.0, [4, 'four'], 5)\n",
      "<class 'tuple'>\n",
      "<class 'list'>\n",
      "140237493045200\n",
      "140237493052672\n",
      "4328502400\n",
      "4328502400\n",
      "Yep\n",
      "Nope\n",
      "list\n"
     ]
    }
   ],
   "source": [
    "x = (1, 'two', 3.0, [4, 'four'], 5)\n",
    "y = [1, 'two', 3.0, [4, 'four'], 5]\n",
    "print('x is {}'.format(x))\n",
    "print(type(x))\n",
    "print(type(y))\n",
    "\n",
    "print(id(x))\n",
    "print(id(y))\n",
    "\n",
    "print(id(x[0]))\n",
    "print(id(y[0]))\n",
    "\n",
    "if x[0] is y[0]:\n",
    "    print(\"Yep\")\n",
    "else:\n",
    "    print(\"Nope\")\n",
    "\n",
    "if x is y:\n",
    "    print(\"Yep\")\n",
    "else:\n",
    "    print(\"Nope\")\n",
    "\n",
    "if isinstance(y,tuple):\n",
    "    print(\"tuple\")\n",
    "elif isinstance(y, list):\n",
    "    print('list')\n",
    "else:\n",
    "    print(\"Nope\")"
   ]
  },
  {
   "cell_type": "markdown",
   "metadata": {},
   "source": [
    "# Ternary statement"
   ]
  },
  {
   "cell_type": "code",
   "execution_count": 11,
   "metadata": {},
   "outputs": [
    {
     "name": "stdout",
     "output_type": "stream",
     "text": [
      "Do not feed the bear.\n"
     ]
    }
   ],
   "source": [
    "hungry = None\n",
    "x = 'Feed the bear now!' if hungry else 'Do not feed the bear.'\n",
    "print(x)\n"
   ]
  },
  {
   "cell_type": "code",
   "execution_count": null,
   "metadata": {},
   "outputs": [],
   "source": []
  }
 ],
 "metadata": {
  "kernelspec": {
   "display_name": "Python 3.7.6 64-bit ('anaconda3': virtualenv)",
   "language": "python",
   "name": "python37664bitanaconda3virtualenv14f0be09cba74924b59e6e390c97b227"
  },
  "language_info": {
   "codemirror_mode": {
    "name": "ipython",
    "version": 3
   },
   "file_extension": ".py",
   "mimetype": "text/x-python",
   "name": "python",
   "nbconvert_exporter": "python",
   "pygments_lexer": "ipython3",
   "version": "3.7.6"
  }
 },
 "nbformat": 4,
 "nbformat_minor": 4
}
