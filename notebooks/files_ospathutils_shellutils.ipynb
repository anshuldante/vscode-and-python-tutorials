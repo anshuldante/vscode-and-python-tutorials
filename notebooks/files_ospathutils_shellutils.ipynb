{
 "cells": [
  {
   "cell_type": "code",
   "execution_count": 4,
   "metadata": {},
   "outputs": [],
   "source": [
    "# Open a file for writing and create it if it doesn't exist\n",
    "f = open(\"textfile.txt\",\"w+\")\n",
    "\n",
    "# Open the file for appending text to the end\n",
    "# f = open(\"textfile.txt\",\"a+\")\n",
    "\n",
    "# write some lines of data to the file\n",
    "for i in range(10):\n",
    "    f.write(\"This is line %d\\r\\n\" % (i+1))\n",
    "\n",
    "# close the file when done\n",
    "f.close()\n"
   ]
  },
  {
   "cell_type": "code",
   "execution_count": 7,
   "metadata": {},
   "outputs": [
    {
     "name": "stdout",
     "output_type": "stream",
     "text": [
      ".....................................................\n",
      "done.\n"
     ]
    }
   ],
   "source": [
    "infile = open('berlin.jpg', 'rb')\n",
    "outfile = open('berlin-copy.jpg', 'wb')\n",
    "while True:\n",
    "    buf = infile.read(10240)\n",
    "    if buf:\n",
    "        outfile.write(buf)\n",
    "        print('.', end='', flush=True)\n",
    "    else: break\n",
    "outfile.close()\n",
    "print('\\ndone.')"
   ]
  },
  {
   "cell_type": "code",
   "execution_count": 4,
   "metadata": {},
   "outputs": [
    {
     "name": "stdout",
     "output_type": "stream",
     "text": [
      "This is line 1\n",
      "This is line 2\n",
      "This is line 3\n",
      "This is line 4\n",
      "This is line 5\n",
      "This is line 6\n",
      "This is line 7\n",
      "This is line 8\n",
      "This is line 9\n",
      "This is line 10\n",
      "\n"
     ]
    }
   ],
   "source": [
    "# Open the file back up and read the contents\n",
    "\n",
    "if f.mode == 'r': # check to make sure that the file was opened\n",
    "# use the read() function to read the entire file\n",
    " contents = f.read()\n",
    " print (contents)\n"
   ]
  },
  {
   "cell_type": "code",
   "execution_count": 8,
   "metadata": {},
   "outputs": [
    {
     "name": "stdout",
     "output_type": "stream",
     "text": [
      "This is line 1\n",
      "\n",
      "This is line 2\n",
      "\n",
      "This is line 3\n",
      "\n",
      "This is line 4\n",
      "\n",
      "This is line 5\n",
      "\n",
      "This is line 6\n",
      "\n",
      "This is line 7\n",
      "\n",
      "This is line 8\n",
      "\n",
      "This is line 9\n",
      "\n",
      "This is line 10\n",
      "\n"
     ]
    }
   ],
   "source": [
    "f = open(\"textfile.txt\",\"r\")\n",
    "fl = f.readlines() # readlines reads the individual lines into a list\n",
    "for x in fl:\n",
    "  print (x)"
   ]
  },
  {
   "cell_type": "code",
   "execution_count": null,
   "metadata": {},
   "outputs": [],
   "source": []
  },
  {
   "cell_type": "code",
   "execution_count": 9,
   "metadata": {},
   "outputs": [],
   "source": [
    "import os\n",
    "from os import path\n",
    "import datetime\n",
    "from datetime import date, time, timedelta\n",
    "import time"
   ]
  },
  {
   "cell_type": "code",
   "execution_count": 12,
   "metadata": {},
   "outputs": [
    {
     "name": "stdout",
     "output_type": "stream",
     "text": [
      "posix\n",
      "Item exists: True\n",
      "Item is a file: True\n",
      "Item is a directory: False\n",
      "Item's path: /Users/a0a00uj/gitreposbyclass/vscode-and-python-tutorials/learning-python-2/notebooks/textfile.txt\n",
      "Item's path and name: ('/Users/a0a00uj/gitreposbyclass/vscode-and-python-tutorials/learning-python-2/notebooks', 'textfile.txt')\n",
      "Fri Jul 10 08:39:30 2020\n",
      "2020-07-10 08:39:30.748438\n",
      "It has been 0:04:17.125571 since the file was modified\n",
      "Or, 257.125571 seconds\n"
     ]
    }
   ],
   "source": [
    "# Print the name of the OS\n",
    "print (os.name)\n",
    "\n",
    "# Check for item existence and type\n",
    "print (\"Item exists: \" + str(path.exists(\"textfile.txt\")))\n",
    "print (\"Item is a file: \" + str(path.isfile(\"textfile.txt\")))\n",
    "print (\"Item is a directory: \" + str(path.isdir(\"textfile.txt\")))\n",
    "\n",
    "# Work with file paths\n",
    "print (\"Item's path: \" + str(path.realpath(\"textfile.txt\")))\n",
    "print (\"Item's path and name: \" + str(path.split(path.realpath(\"textfile.txt\"))))\n",
    "\n",
    "# Get the modification time\n",
    "t = time.ctime(path.getmtime(\"textfile.txt\"))\n",
    "print (t)\n",
    "print (datetime.datetime.fromtimestamp(path.getmtime(\"textfile.txt\")))\n",
    "\n",
    "# Calculate how long ago the item was modified\n",
    "td= datetime.datetime.now() - datetime.datetime.fromtimestamp(path.getmtime(\"textfile.txt\"))\n",
    "print (\"It has been \" + str(td) + \" since the file was modified\")\n",
    "print (\"Or, \" + str(td.total_seconds()) + \" seconds\")\n"
   ]
  },
  {
   "cell_type": "code",
   "execution_count": 11,
   "metadata": {},
   "outputs": [
    {
     "name": "stdout",
     "output_type": "stream",
     "text": [
      "Help on function exists in module genericpath:\n",
      "\n",
      "exists(path)\n",
      "    Test whether a path exists.  Returns False for broken symbolic links\n",
      "\n"
     ]
    }
   ],
   "source": [
    "help(path.exists)"
   ]
  },
  {
   "cell_type": "code",
   "execution_count": 13,
   "metadata": {},
   "outputs": [],
   "source": [
    "import os\n",
    "from os import path\n",
    "import shutil\n",
    "from shutil import make_archive\n",
    "from zipfile import ZipFile"
   ]
  },
  {
   "cell_type": "code",
   "execution_count": 15,
   "metadata": {},
   "outputs": [],
   "source": [
    "# make a duplicate of an existing file\n",
    "if path.exists(\"textfile.txt\"):\n",
    "# get the path to the file in the current directory\n",
    "    src = path.realpath(\"textfile.txt\");\n",
    "\n",
    "# # let's make a backup copy by appending \"bak\" to the name\n",
    "dst = src + \".bak\"\n",
    "# # now use the shell to make a copy of the file\n",
    "shutil.copy(src,dst)\n",
    "\n",
    "# # copy over the permissions, modification times, and other info\n",
    "shutil.copystat(src, dst)\n",
    "\n",
    "# # rename the original file\n",
    "os.rename(\"textfile.txt\", \"newfile.txt\")"
   ]
  },
  {
   "cell_type": "code",
   "execution_count": 16,
   "metadata": {},
   "outputs": [
    {
     "data": {
      "text/plain": [
       "'/Users/a0a00uj/gitreposbyclass/vscode-and-python-tutorials/learning-python-2/notebooks/archive.zip'"
      ]
     },
     "execution_count": 16,
     "metadata": {},
     "output_type": "execute_result"
    }
   ],
   "source": [
    "# now put things into a ZIP archive\n",
    "root_dir,tail = path.split(src)\n",
    "shutil.make_archive(\"archive\", \"zip\", root_dir)\n"
   ]
  },
  {
   "cell_type": "code",
   "execution_count": 17,
   "metadata": {},
   "outputs": [],
   "source": [
    "# more fine-grained control over ZIP files\n",
    "with ZipFile(\"testzip.zip\",\"w\") as newzip:\n",
    "  newzip.write(\"newfile.txt\")\n",
    "  newzip.write(\"textfile.txt.bak\")"
   ]
  },
  {
   "cell_type": "code",
   "execution_count": null,
   "metadata": {},
   "outputs": [],
   "source": []
  }
 ],
 "metadata": {
  "kernelspec": {
   "display_name": "Python 3.7.6 64-bit ('anaconda3': virtualenv)",
   "language": "python",
   "name": "python37664bitanaconda3virtualenv14f0be09cba74924b59e6e390c97b227"
  },
  "language_info": {
   "codemirror_mode": {
    "name": "ipython",
    "version": 3
   },
   "file_extension": ".py",
   "mimetype": "text/x-python",
   "name": "python",
   "nbconvert_exporter": "python",
   "pygments_lexer": "ipython3",
   "version": "3.7.6"
  }
 },
 "nbformat": 4,
 "nbformat_minor": 4
}
