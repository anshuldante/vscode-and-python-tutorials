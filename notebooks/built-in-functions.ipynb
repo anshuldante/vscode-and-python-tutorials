{
 "cells": [
  {
   "cell_type": "code",
   "execution_count": 1,
   "metadata": {},
   "outputs": [],
   "source": [
    "x = '47'\n",
    "y = int(x)\n",
    "z = float(x)*-1\n",
    "a = divmod(y, 3)"
   ]
  },
  {
   "cell_type": "code",
   "execution_count": 2,
   "metadata": {},
   "outputs": [
    {
     "data": {
      "text/plain": [
       "(15, 2)"
      ]
     },
     "execution_count": 2,
     "metadata": {},
     "output_type": "execute_result"
    }
   ],
   "source": [
    "a"
   ]
  },
  {
   "cell_type": "code",
   "execution_count": 3,
   "metadata": {},
   "outputs": [
    {
     "data": {
      "text/plain": [
       "(47+21j)"
      ]
     },
     "execution_count": 3,
     "metadata": {},
     "output_type": "execute_result"
    }
   ],
   "source": [
    "complex(y , 21)"
   ]
  },
  {
   "cell_type": "code",
   "execution_count": 5,
   "metadata": {},
   "outputs": [
    {
     "name": "stdout",
     "output_type": "stream",
     "text": [
      "<class 'str'>\n",
      "False\n",
      "140375846332336\n"
     ]
    }
   ],
   "source": [
    "print(type(x))\n",
    "print(isinstance(x, int))\n",
    "print(id(x))"
   ]
  },
  {
   "cell_type": "code",
   "execution_count": 8,
   "metadata": {},
   "outputs": [
    {
     "data": {
      "text/plain": [
       "<reversed at 0x7fabcc7a7710>"
      ]
     },
     "execution_count": 8,
     "metadata": {},
     "output_type": "execute_result"
    }
   ],
   "source": [
    "x = (1, 2, 3, 4, 5)\n",
    "reversed(x)"
   ]
  },
  {
   "cell_type": "code",
   "execution_count": 9,
   "metadata": {},
   "outputs": [
    {
     "data": {
      "text/plain": [
       "[5, 4, 3, 2, 1]"
      ]
     },
     "execution_count": 9,
     "metadata": {},
     "output_type": "execute_result"
    }
   ],
   "source": [
    "list(reversed(x))"
   ]
  },
  {
   "cell_type": "code",
   "execution_count": 10,
   "metadata": {},
   "outputs": [
    {
     "name": "stdout",
     "output_type": "stream",
     "text": [
      "'Hello, World.'\n",
      "repr: the number of bunnies is 45 🖖\n",
      "repr: the number of bunnies is 45 \\U0001f596\n",
      "str: the number of bunnies is 45\n",
      "🖖\n",
      "128406\n",
      "str: the number of bunnies is 45\n"
     ]
    }
   ],
   "source": [
    "class bunny:\n",
    "    def __init__(self, n):\n",
    "        self._n=n\n",
    "    def __repr__(self):\n",
    "        return f'repr: the number of bunnies is {self._n} 🖖'\n",
    "    def __str__(self):\n",
    "        return f'str: the number of bunnies is {self._n}'\n",
    "\n",
    "s='Hello, World.'\n",
    "print(repr(s))\n",
    "\n",
    "\n",
    "s2=bunny(45)\n",
    "print(repr(s2))\n",
    "print(ascii(s2))\n",
    "print(str(s2))\n",
    "print(chr(128406))\n",
    "print(ord('🖖'))\n",
    "print(s2)"
   ]
  },
  {
   "cell_type": "code",
   "execution_count": null,
   "metadata": {},
   "outputs": [],
   "source": []
  }
 ],
 "metadata": {
  "kernelspec": {
   "display_name": "Python 3.7.6 64-bit ('anaconda3': virtualenv)",
   "language": "python",
   "name": "python37664bitanaconda3virtualenv14f0be09cba74924b59e6e390c97b227"
  },
  "language_info": {
   "codemirror_mode": {
    "name": "ipython",
    "version": 3
   },
   "file_extension": ".py",
   "mimetype": "text/x-python",
   "name": "python",
   "nbconvert_exporter": "python",
   "pygments_lexer": "ipython3",
   "version": "3.7.6"
  }
 },
 "nbformat": 4,
 "nbformat_minor": 4
}
